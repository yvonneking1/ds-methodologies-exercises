{
 "cells": [
  {
   "cell_type": "markdown",
   "metadata": {},
   "source": [
    "# Throughout the exercises for Regression in Python lessons, you will use the following example scenario: \n",
    "As a customer analyst, I want to know who has spent the most money with us over their lifetime. I have monthly charges and tenure, so I think I will be able to use those two attributes as features to estimate total_charges. I need to do this within an average of $5.00 per customer.\n",
    "\n",
    "The first step will be to acquire and prep the data. Do your work for this exercise in a file named wrangle.py.\n",
    "\n",
    "1. Acquire customer_id, monthly_charges, tenure, and total_charges from telco_churn database for all customers with a 2 year contract.\n",
    "2. Walk through the steps above using your new dataframe. You may handle the missing values however you feel is appropriate.\n",
    "3. End with a python file wrangle.py that contains the function, wrangle_telco(), that will acquire the data and return a dataframe cleaned with no missing values."
   ]
  },
  {
   "cell_type": "code",
   "execution_count": 1,
   "metadata": {},
   "outputs": [],
   "source": [
    "import numpy as np\n",
    "import pandas as pd\n",
    "import matplotlib.pyplot as plt\n",
    "import seaborn as sns\n",
    "from env import get_db_url"
   ]
  },
  {
   "cell_type": "code",
   "execution_count": 2,
   "metadata": {},
   "outputs": [],
   "source": [
    "query = \"\"\"SELECT customer_id,\n",
    "tenure,\n",
    "monthly_charges,\n",
    "total_charges\n",
    "FROM customers\n",
    "WHERE contract_type_id = 3;\"\"\""
   ]
  },
  {
   "cell_type": "code",
   "execution_count": 3,
   "metadata": {},
   "outputs": [],
   "source": [
    "url = get_db_url(\"telco_churn\")"
   ]
  },
  {
   "cell_type": "code",
   "execution_count": 4,
   "metadata": {},
   "outputs": [],
   "source": [
    "telco = pd.read_sql(query, url)"
   ]
  },
  {
   "cell_type": "code",
   "execution_count": 5,
   "metadata": {},
   "outputs": [
    {
     "data": {
      "text/html": [
       "<div>\n",
       "<style scoped>\n",
       "    .dataframe tbody tr th:only-of-type {\n",
       "        vertical-align: middle;\n",
       "    }\n",
       "\n",
       "    .dataframe tbody tr th {\n",
       "        vertical-align: top;\n",
       "    }\n",
       "\n",
       "    .dataframe thead th {\n",
       "        text-align: right;\n",
       "    }\n",
       "</style>\n",
       "<table border=\"1\" class=\"dataframe\">\n",
       "  <thead>\n",
       "    <tr style=\"text-align: right;\">\n",
       "      <th></th>\n",
       "      <th>customer_id</th>\n",
       "      <th>tenure</th>\n",
       "      <th>monthly_charges</th>\n",
       "      <th>total_charges</th>\n",
       "    </tr>\n",
       "  </thead>\n",
       "  <tbody>\n",
       "    <tr>\n",
       "      <td>0</td>\n",
       "      <td>0013-SMEOE</td>\n",
       "      <td>71</td>\n",
       "      <td>109.70</td>\n",
       "      <td>7904.25</td>\n",
       "    </tr>\n",
       "    <tr>\n",
       "      <td>1</td>\n",
       "      <td>0014-BMAQU</td>\n",
       "      <td>63</td>\n",
       "      <td>84.65</td>\n",
       "      <td>5377.8</td>\n",
       "    </tr>\n",
       "    <tr>\n",
       "      <td>2</td>\n",
       "      <td>0016-QLJIS</td>\n",
       "      <td>65</td>\n",
       "      <td>90.45</td>\n",
       "      <td>5957.9</td>\n",
       "    </tr>\n",
       "    <tr>\n",
       "      <td>3</td>\n",
       "      <td>0017-DINOC</td>\n",
       "      <td>54</td>\n",
       "      <td>45.20</td>\n",
       "      <td>2460.55</td>\n",
       "    </tr>\n",
       "    <tr>\n",
       "      <td>4</td>\n",
       "      <td>0017-IUDMW</td>\n",
       "      <td>72</td>\n",
       "      <td>116.80</td>\n",
       "      <td>8456.75</td>\n",
       "    </tr>\n",
       "  </tbody>\n",
       "</table>\n",
       "</div>"
      ],
      "text/plain": [
       "  customer_id  tenure  monthly_charges total_charges\n",
       "0  0013-SMEOE      71           109.70       7904.25\n",
       "1  0014-BMAQU      63            84.65        5377.8\n",
       "2  0016-QLJIS      65            90.45        5957.9\n",
       "3  0017-DINOC      54            45.20       2460.55\n",
       "4  0017-IUDMW      72           116.80       8456.75"
      ]
     },
     "execution_count": 5,
     "metadata": {},
     "output_type": "execute_result"
    }
   ],
   "source": [
    "#Take a look at the head\n",
    "telco.head()"
   ]
  },
  {
   "cell_type": "code",
   "execution_count": 6,
   "metadata": {},
   "outputs": [
    {
     "data": {
      "text/html": [
       "<div>\n",
       "<style scoped>\n",
       "    .dataframe tbody tr th:only-of-type {\n",
       "        vertical-align: middle;\n",
       "    }\n",
       "\n",
       "    .dataframe tbody tr th {\n",
       "        vertical-align: top;\n",
       "    }\n",
       "\n",
       "    .dataframe thead th {\n",
       "        text-align: right;\n",
       "    }\n",
       "</style>\n",
       "<table border=\"1\" class=\"dataframe\">\n",
       "  <thead>\n",
       "    <tr style=\"text-align: right;\">\n",
       "      <th></th>\n",
       "      <th>customer_id</th>\n",
       "      <th>tenure</th>\n",
       "      <th>monthly_charges</th>\n",
       "      <th>total_charges</th>\n",
       "    </tr>\n",
       "  </thead>\n",
       "  <tbody>\n",
       "    <tr>\n",
       "      <td>1690</td>\n",
       "      <td>9964-WBQDJ</td>\n",
       "      <td>71</td>\n",
       "      <td>24.40</td>\n",
       "      <td>1725.4</td>\n",
       "    </tr>\n",
       "    <tr>\n",
       "      <td>1691</td>\n",
       "      <td>9972-EWRJS</td>\n",
       "      <td>67</td>\n",
       "      <td>19.25</td>\n",
       "      <td>1372.9</td>\n",
       "    </tr>\n",
       "    <tr>\n",
       "      <td>1692</td>\n",
       "      <td>9975-GPKZU</td>\n",
       "      <td>46</td>\n",
       "      <td>19.75</td>\n",
       "      <td>856.5</td>\n",
       "    </tr>\n",
       "    <tr>\n",
       "      <td>1693</td>\n",
       "      <td>9993-LHIEB</td>\n",
       "      <td>67</td>\n",
       "      <td>67.85</td>\n",
       "      <td>4627.65</td>\n",
       "    </tr>\n",
       "    <tr>\n",
       "      <td>1694</td>\n",
       "      <td>9995-HOTOH</td>\n",
       "      <td>63</td>\n",
       "      <td>59.00</td>\n",
       "      <td>3707.6</td>\n",
       "    </tr>\n",
       "  </tbody>\n",
       "</table>\n",
       "</div>"
      ],
      "text/plain": [
       "     customer_id  tenure  monthly_charges total_charges\n",
       "1690  9964-WBQDJ      71            24.40        1725.4\n",
       "1691  9972-EWRJS      67            19.25        1372.9\n",
       "1692  9975-GPKZU      46            19.75         856.5\n",
       "1693  9993-LHIEB      67            67.85       4627.65\n",
       "1694  9995-HOTOH      63            59.00        3707.6"
      ]
     },
     "execution_count": 6,
     "metadata": {},
     "output_type": "execute_result"
    }
   ],
   "source": [
    "#Take a look at the tail\n",
    "telco.tail()"
   ]
  },
  {
   "cell_type": "code",
   "execution_count": 7,
   "metadata": {},
   "outputs": [
    {
     "data": {
      "text/plain": [
       "(1695, 4)"
      ]
     },
     "execution_count": 7,
     "metadata": {},
     "output_type": "execute_result"
    }
   ],
   "source": [
    "#get a sense of how large the dataset is\n",
    "telco.shape"
   ]
  },
  {
   "cell_type": "code",
   "execution_count": 8,
   "metadata": {},
   "outputs": [
    {
     "data": {
      "text/html": [
       "<div>\n",
       "<style scoped>\n",
       "    .dataframe tbody tr th:only-of-type {\n",
       "        vertical-align: middle;\n",
       "    }\n",
       "\n",
       "    .dataframe tbody tr th {\n",
       "        vertical-align: top;\n",
       "    }\n",
       "\n",
       "    .dataframe thead th {\n",
       "        text-align: right;\n",
       "    }\n",
       "</style>\n",
       "<table border=\"1\" class=\"dataframe\">\n",
       "  <thead>\n",
       "    <tr style=\"text-align: right;\">\n",
       "      <th></th>\n",
       "      <th>tenure</th>\n",
       "      <th>monthly_charges</th>\n",
       "    </tr>\n",
       "  </thead>\n",
       "  <tbody>\n",
       "    <tr>\n",
       "      <td>count</td>\n",
       "      <td>1695.000000</td>\n",
       "      <td>1695.000000</td>\n",
       "    </tr>\n",
       "    <tr>\n",
       "      <td>mean</td>\n",
       "      <td>56.735103</td>\n",
       "      <td>60.770413</td>\n",
       "    </tr>\n",
       "    <tr>\n",
       "      <td>std</td>\n",
       "      <td>18.209363</td>\n",
       "      <td>34.678865</td>\n",
       "    </tr>\n",
       "    <tr>\n",
       "      <td>min</td>\n",
       "      <td>0.000000</td>\n",
       "      <td>18.400000</td>\n",
       "    </tr>\n",
       "    <tr>\n",
       "      <td>25%</td>\n",
       "      <td>48.000000</td>\n",
       "      <td>24.025000</td>\n",
       "    </tr>\n",
       "    <tr>\n",
       "      <td>50%</td>\n",
       "      <td>64.000000</td>\n",
       "      <td>64.350000</td>\n",
       "    </tr>\n",
       "    <tr>\n",
       "      <td>75%</td>\n",
       "      <td>71.000000</td>\n",
       "      <td>90.450000</td>\n",
       "    </tr>\n",
       "    <tr>\n",
       "      <td>max</td>\n",
       "      <td>72.000000</td>\n",
       "      <td>118.750000</td>\n",
       "    </tr>\n",
       "  </tbody>\n",
       "</table>\n",
       "</div>"
      ],
      "text/plain": [
       "            tenure  monthly_charges\n",
       "count  1695.000000      1695.000000\n",
       "mean     56.735103        60.770413\n",
       "std      18.209363        34.678865\n",
       "min       0.000000        18.400000\n",
       "25%      48.000000        24.025000\n",
       "50%      64.000000        64.350000\n",
       "75%      71.000000        90.450000\n",
       "max      72.000000       118.750000"
      ]
     },
     "execution_count": 8,
     "metadata": {},
     "output_type": "execute_result"
    }
   ],
   "source": [
    "#look at the datatypes to make sure everything is ok\n",
    "telco.describe()"
   ]
  },
  {
   "cell_type": "markdown",
   "metadata": {},
   "source": [
    "total charges should be numerical but is missing"
   ]
  },
  {
   "cell_type": "code",
   "execution_count": 9,
   "metadata": {},
   "outputs": [
    {
     "data": {
      "text/plain": [
       "customer_id         object\n",
       "tenure               int64\n",
       "monthly_charges    float64\n",
       "total_charges       object\n",
       "dtype: object"
      ]
     },
     "execution_count": 9,
     "metadata": {},
     "output_type": "execute_result"
    }
   ],
   "source": [
    "#take a look at the data types\n",
    "telco.dtypes"
   ]
  },
  {
   "cell_type": "code",
   "execution_count": 10,
   "metadata": {},
   "outputs": [
    {
     "name": "stdout",
     "output_type": "stream",
     "text": [
      "<class 'pandas.core.frame.DataFrame'>\n",
      "RangeIndex: 1695 entries, 0 to 1694\n",
      "Data columns (total 4 columns):\n",
      "customer_id        1695 non-null object\n",
      "tenure             1695 non-null int64\n",
      "monthly_charges    1695 non-null float64\n",
      "total_charges      1695 non-null object\n",
      "dtypes: float64(1), int64(1), object(2)\n",
      "memory usage: 53.1+ KB\n"
     ]
    }
   ],
   "source": [
    "# make sure there are no null's\n",
    "telco.info()"
   ]
  },
  {
   "cell_type": "code",
   "execution_count": 11,
   "metadata": {},
   "outputs": [
    {
     "data": {
      "text/plain": [
       "'987.95'"
      ]
     },
     "execution_count": 11,
     "metadata": {},
     "output_type": "execute_result"
    }
   ],
   "source": [
    "#take a look at the min and max for total_charges coloumn to see what's going on\n",
    "telco.total_charges.max()"
   ]
  },
  {
   "cell_type": "code",
   "execution_count": 12,
   "metadata": {},
   "outputs": [
    {
     "data": {
      "text/plain": [
       "' '"
      ]
     },
     "execution_count": 12,
     "metadata": {},
     "output_type": "execute_result"
    }
   ],
   "source": [
    "telco.total_charges.min()"
   ]
  },
  {
   "cell_type": "code",
   "execution_count": 13,
   "metadata": {},
   "outputs": [],
   "source": [
    "#sine the min is a space we will remove that value and replace with a Nan for now\n",
    "telco.total_charges = telco.total_charges.str.strip()\n",
    "telco = telco.replace(\"\", np.nan)"
   ]
  },
  {
   "cell_type": "code",
   "execution_count": 14,
   "metadata": {},
   "outputs": [
    {
     "name": "stdout",
     "output_type": "stream",
     "text": [
      "<class 'pandas.core.frame.DataFrame'>\n",
      "RangeIndex: 1695 entries, 0 to 1694\n",
      "Data columns (total 4 columns):\n",
      "customer_id        1695 non-null object\n",
      "tenure             1695 non-null int64\n",
      "monthly_charges    1695 non-null float64\n",
      "total_charges      1685 non-null object\n",
      "dtypes: float64(1), int64(1), object(2)\n",
      "memory usage: 53.1+ KB\n"
     ]
    }
   ],
   "source": [
    "#check the data info again\n",
    "telco.info()"
   ]
  },
  {
   "cell_type": "code",
   "execution_count": 15,
   "metadata": {},
   "outputs": [],
   "source": [
    "#drop the nan's since there are only a small amount compared to the data\n",
    "telco = telco.dropna()"
   ]
  },
  {
   "cell_type": "code",
   "execution_count": 16,
   "metadata": {},
   "outputs": [
    {
     "name": "stdout",
     "output_type": "stream",
     "text": [
      "<class 'pandas.core.frame.DataFrame'>\n",
      "Int64Index: 1685 entries, 0 to 1694\n",
      "Data columns (total 4 columns):\n",
      "customer_id        1685 non-null object\n",
      "tenure             1685 non-null int64\n",
      "monthly_charges    1685 non-null float64\n",
      "total_charges      1685 non-null object\n",
      "dtypes: float64(1), int64(1), object(2)\n",
      "memory usage: 65.8+ KB\n"
     ]
    }
   ],
   "source": [
    "#AND check th data again\n",
    "telco.info()"
   ]
  },
  {
   "cell_type": "code",
   "execution_count": 17,
   "metadata": {},
   "outputs": [
    {
     "data": {
      "text/plain": [
       "0       7904.25\n",
       "1        5377.8\n",
       "2        5957.9\n",
       "3       2460.55\n",
       "4       8456.75\n",
       "         ...   \n",
       "1690     1725.4\n",
       "1691     1372.9\n",
       "1692      856.5\n",
       "1693    4627.65\n",
       "1694     3707.6\n",
       "Name: total_charges, Length: 1685, dtype: object"
      ]
     },
     "execution_count": 17,
     "metadata": {},
     "output_type": "execute_result"
    }
   ],
   "source": [
    "#look at the total_charges to see what the data looks like \n",
    "telco.total_charges"
   ]
  },
  {
   "cell_type": "code",
   "execution_count": 18,
   "metadata": {},
   "outputs": [],
   "source": [
    "#change the type of the colomn to a float\n",
    "telco.total_charges = telco.total_charges.astype(\"float\")"
   ]
  },
  {
   "cell_type": "code",
   "execution_count": 19,
   "metadata": {},
   "outputs": [
    {
     "name": "stdout",
     "output_type": "stream",
     "text": [
      "<class 'pandas.core.frame.DataFrame'>\n",
      "Int64Index: 1685 entries, 0 to 1694\n",
      "Data columns (total 4 columns):\n",
      "customer_id        1685 non-null object\n",
      "tenure             1685 non-null int64\n",
      "monthly_charges    1685 non-null float64\n",
      "total_charges      1685 non-null float64\n",
      "dtypes: float64(2), int64(1), object(1)\n",
      "memory usage: 65.8+ KB\n"
     ]
    }
   ],
   "source": [
    "telco.info()"
   ]
  },
  {
   "cell_type": "code",
   "execution_count": null,
   "metadata": {},
   "outputs": [],
   "source": []
  }
 ],
 "metadata": {
  "kernelspec": {
   "display_name": "Python 3",
   "language": "python",
   "name": "python3"
  },
  "language_info": {
   "codemirror_mode": {
    "name": "ipython",
    "version": 3
   },
   "file_extension": ".py",
   "mimetype": "text/x-python",
   "name": "python",
   "nbconvert_exporter": "python",
   "pygments_lexer": "ipython3",
   "version": "3.7.4"
  }
 },
 "nbformat": 4,
 "nbformat_minor": 2
}
